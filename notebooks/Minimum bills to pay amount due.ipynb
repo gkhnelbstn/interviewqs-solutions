{
 "cells": [
  {
   "cell_type": "code",
   "execution_count": 1,
   "metadata": {},
   "outputs": [],
   "source": [
    "import pandas as pd\n",
    "import numpy as np"
   ]
  },
  {
   "cell_type": "markdown",
   "metadata": {},
   "source": [
    "Suppose you're given an array of currency bills at varying values along with an integer representing an amount of money owed.\n",
    "\n",
    "Given these inputs, write a function to return the fewest # of bills that are needed to pay the amount due. If the amount can not be paid with the bills shown, return 'Not possible'.\n",
    "\n",
    "You can assume you have an infinite number of each kind of bill.\n",
    "\n",
    "For example:\n",
    "    \n",
    "```python\n",
    "    Input: bills = [1,2,5], amount = 15\n",
    "    Output: 3\n",
    "    (15 = 5 + 5 + 5)\n",
    "    Input: bills = [2], amount = 5\n",
    "    Output: Not possible\n"
   ]
  },
  {
   "cell_type": "code",
   "execution_count": 3,
   "metadata": {},
   "outputs": [],
   "source": [
    "def fewest_bills(bills, amount):\n",
    "    # Create a list to store the fewest number of bills needed for each amount\n",
    "    dp = [float('inf')] * (amount + 1)\n",
    "    dp[0] = 0\n",
    "\n",
    "    # Iterate through each bill value\n",
    "    for bill in bills:\n",
    "        # Update the fewest number of bills needed for each amount\n",
    "        for i in range(bill, amount + 1):\n",
    "            dp[i] = min(dp[i], dp[i - bill] + 1)\n",
    "\n",
    "    # Return the fewest number of bills needed for the given amount\n",
    "    return dp[amount] if dp[amount] != float('inf') else 'Not possible'\n",
    "\n",
    "\n"
   ]
  },
  {
   "cell_type": "code",
   "execution_count": 4,
   "metadata": {},
   "outputs": [
    {
     "name": "stdout",
     "output_type": "stream",
     "text": [
      "3\n",
      "Not possible\n"
     ]
    }
   ],
   "source": [
    "# Test the function\n",
    "bills = [1, 2, 5]\n",
    "amount = 15\n",
    "print(fewest_bills(bills, amount))  # Output: 3\n",
    "\n",
    "bills = [2]\n",
    "amount = 5\n",
    "print(fewest_bills(bills, amount))  # Output: Not possible"
   ]
  }
 ],
 "metadata": {
  "kernelspec": {
   "display_name": "Python 3",
   "language": "python",
   "name": "python3"
  },
  "language_info": {
   "codemirror_mode": {
    "name": "ipython",
    "version": 3
   },
   "file_extension": ".py",
   "mimetype": "text/x-python",
   "name": "python",
   "nbconvert_exporter": "python",
   "pygments_lexer": "ipython3",
   "version": "3.12.1"
  }
 },
 "nbformat": 4,
 "nbformat_minor": 2
}
