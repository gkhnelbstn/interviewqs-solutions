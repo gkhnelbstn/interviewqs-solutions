{
 "cells": [
  {
   "cell_type": "code",
   "execution_count": 1,
   "metadata": {},
   "outputs": [],
   "source": [
    "import pandas as pd\n",
    "import numpy as np"
   ]
  },
  {
   "cell_type": "markdown",
   "metadata": {},
   "source": [
    "You are given a list of numbers J and a single number p. Write a function to return the minimum and maximum averages of the sequences of p numbers in the list J.\n",
    "\n",
    "For example:\n",
    "\n",
    "# Array of numbers\n",
    "J = [4, 4, 4, 9, 10, 11, 12]\n",
    "\n",
    "# Length of sequences, p\n",
    "p = 3\n",
    "Here, the sequences will be:\n",
    "\n",
    "- (4,4,4)\n",
    "- (4,4,9)\n",
    "- (4,9,10)\n",
    "- (9,10,11)\n",
    "- (10,11,12)\n",
    "\n",
    "From the above we can see that the minimum average will be 4 and the maximum average will be 11, which corresponds to the first and last sequences."
   ]
  },
  {
   "cell_type": "code",
   "execution_count": 2,
   "metadata": {},
   "outputs": [],
   "source": [
    "J = [4, 4, 4, 9, 10, 11, 12]\n",
    "p = 3"
   ]
  },
  {
   "cell_type": "code",
   "execution_count": 3,
   "metadata": {},
   "outputs": [
    {
     "name": "stdout",
     "output_type": "stream",
     "text": [
      "Minimum average: 4.0\n",
      "Maximum average: 11.0\n"
     ]
    }
   ],
   "source": [
    "def find_min_max_averages(J, p):\n",
    "    averages = []\n",
    "    for i in range(len(J) - p + 1):\n",
    "        sequence = J[i:i+p]\n",
    "        average = np.mean(sequence)\n",
    "        averages.append(average)\n",
    "    \n",
    "    min_average = min(averages)\n",
    "    max_average = max(averages)\n",
    "    \n",
    "    return min_average, max_average\n",
    "\n",
    "min_average, max_average = find_min_max_averages(J, p)\n",
    "print(\"Minimum average:\", min_average)\n",
    "print(\"Maximum average:\", max_average)\n"
   ]
  }
 ],
 "metadata": {
  "kernelspec": {
   "display_name": "Python 3",
   "language": "python",
   "name": "python3"
  },
  "language_info": {
   "codemirror_mode": {
    "name": "ipython",
    "version": 3
   },
   "file_extension": ".py",
   "mimetype": "text/x-python",
   "name": "python",
   "nbconvert_exporter": "python",
   "pygments_lexer": "ipython3",
   "version": "3.12.1"
  }
 },
 "nbformat": 4,
 "nbformat_minor": 2
}
