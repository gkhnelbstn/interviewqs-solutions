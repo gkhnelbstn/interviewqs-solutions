{
 "cells": [
  {
   "cell_type": "code",
   "execution_count": 1,
   "metadata": {},
   "outputs": [],
   "source": [
    "import pandas as pd\n",
    "import numpy as np"
   ]
  },
  {
   "cell_type": "markdown",
   "metadata": {},
   "source": [
    "Given an array a, write a function to feed in the array elements and check whether they can all be made equal by only multiplying the numbers by 2 or 7. (you can multiply by these #s as many times as you like)\n",
    "\n",
    "If all elements can be made equal, return False, otherwise return True.\n",
    "\n",
    "```python\n",
    "    Example:\n",
    "    #Input\n",
    "    a = [128, 4, 2]\n",
    "    #Here, we can turn all elements into 128, by multiplying by 2\n",
    "    #128, 4*2*2*2*2*2 = 128, 2*2*2*2*2*2*2 = 128\n",
    "    #Output:\n",
    "    #True\n",
    "    #Input\n",
    "    a = [65, 4, 2]\n",
    "    #Here, we cannot make all elements equal through multiplication by 2 or 7, \n",
    "    #so we return false\n",
    "    #Output:\n",
    "    #False\n",
    "```"
   ]
  },
  {
   "cell_type": "code",
   "execution_count": 3,
   "metadata": {},
   "outputs": [
    {
     "data": {
      "text/plain": [
       "False"
      ]
     },
     "execution_count": 3,
     "metadata": {},
     "output_type": "execute_result"
    }
   ],
   "source": [
    "def check_multiplication(a):\n",
    "    for num in a:\n",
    "        while num % 2 == 0:\n",
    "            num //= 2\n",
    "        while num % 7 == 0:\n",
    "            num //= 7\n",
    "        if num != 1:\n",
    "            return True\n",
    "    return False\n",
    "\n",
    "check_multiplication([128, 4, 2])\n"
   ]
  },
  {
   "cell_type": "code",
   "execution_count": null,
   "metadata": {},
   "outputs": [],
   "source": []
  }
 ],
 "metadata": {
  "kernelspec": {
   "display_name": "Python 3",
   "language": "python",
   "name": "python3"
  },
  "language_info": {
   "codemirror_mode": {
    "name": "ipython",
    "version": 3
   },
   "file_extension": ".py",
   "mimetype": "text/x-python",
   "name": "python",
   "nbconvert_exporter": "python",
   "pygments_lexer": "ipython3",
   "version": "3.12.1"
  }
 },
 "nbformat": 4,
 "nbformat_minor": 2
}
