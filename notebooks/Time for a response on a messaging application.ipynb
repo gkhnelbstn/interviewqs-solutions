{
 "cells": [
  {
   "cell_type": "code",
   "execution_count": 1,
   "metadata": {},
   "outputs": [],
   "source": [
    "import pandas as pd\n",
    "import numpy as np"
   ]
  },
  {
   "cell_type": "markdown",
   "metadata": {},
   "source": [
    "You are given a [dataset](https://raw.githubusercontent.com/erood/interviewqs.com_code_snippets/master/Datasets/sample_message_dataset.csv) with information around messages sent between users in a P2P messaging application. Below is the dataset's schema:\n",
    "\n",
    "| Column Name | Data Type | Description                          |\n",
    "|-------------|-----------|--------------------------------------|\n",
    "| date        | string    | date of the message sent/received, format is 'YYYY-mm-dd' |\n",
    "| timestamp   | integer   | timestamp of the message sent/received, epoch seconds |\n",
    "| sender_id   | integer   | id of the message sender              |\n",
    "| receiver_id | integer   | id of the message receiver            |\n",
    "\n",
    "Given this, write code to find the fraction of messages that are sent between the same sender and receiver within five minutes (e.g. the fraction of messages that receive a response within 5 minutes)."
   ]
  },
  {
   "cell_type": "code",
   "execution_count": 3,
   "metadata": {},
   "outputs": [],
   "source": [
    "data = 'https://raw.githubusercontent.com/erood/interviewqs.com_code_snippets/master/Datasets/sample_message_dataset.csv'\n",
    "df = pd.read_csv(data)"
   ]
  },
  {
   "cell_type": "code",
   "execution_count": 4,
   "metadata": {},
   "outputs": [
    {
     "data": {
      "text/plain": [
       "0.2558139534883721"
      ]
     },
     "execution_count": 4,
     "metadata": {},
     "output_type": "execute_result"
    }
   ],
   "source": [
    "# Calculate the time difference between consecutive messages for each sender-receiver pair\n",
    "df['time_diff'] = df.groupby(['sender_id', 'receiver_id'])['timestamp'].diff()\n",
    "\n",
    "# Count the number of messages that have a time difference less than or equal to 300 seconds (5 minutes)\n",
    "total_messages = len(df)\n",
    "matching_messages = len(df[df['time_diff'] <= 300])\n",
    "\n",
    "# Calculate the fraction of matching messages\n",
    "fraction_matching_messages = matching_messages / total_messages\n",
    "\n",
    "fraction_matching_messages\n"
   ]
  }
 ],
 "metadata": {
  "kernelspec": {
   "display_name": "Python 3",
   "language": "python",
   "name": "python3"
  },
  "language_info": {
   "codemirror_mode": {
    "name": "ipython",
    "version": 3
   },
   "file_extension": ".py",
   "mimetype": "text/x-python",
   "name": "python",
   "nbconvert_exporter": "python",
   "pygments_lexer": "ipython3",
   "version": "3.12.1"
  }
 },
 "nbformat": 4,
 "nbformat_minor": 2
}
