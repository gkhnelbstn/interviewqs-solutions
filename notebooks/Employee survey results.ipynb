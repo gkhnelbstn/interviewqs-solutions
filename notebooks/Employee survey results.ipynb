{
 "cells": [
  {
   "cell_type": "code",
   "execution_count": 1,
   "metadata": {},
   "outputs": [],
   "source": [
    "import pandas as pd \n",
    "import numpy as np\n",
    "import matplotlib.pyplot as plt"
   ]
  },
  {
   "cell_type": "markdown",
   "metadata": {},
   "source": [
    "You're consulting for a company, and you've sent out a survey that asks successive qustions randomly. The survey logs data into a table called survey_logging. The schema of the table is:\n",
    "\n",
    "| Column Name  | Data Type | Description                                |\n",
    "|--------------|-----------|--------------------------------------------|\n",
    "| employee_id  | integer   | employee id of the survey respondent       |\n",
    "| action       | string    | Will be one of the following values: 'view', 'answer', 'skip' |\n",
    "| question_id  | integer   | ID of the question asked                    |\n",
    "| answer_id    | integer   | ID of the answer asked                      |\n",
    "| timestamp    | integer   | time stamp of the action made by respondent |\n",
    "Using SQL, find which question has the highest response rate."
   ]
  },
  {
   "cell_type": "code",
   "execution_count": null,
   "metadata": {},
   "outputs": [],
   "source": [
    "SELECT question_id, COUNT(*) * 100.0 / (SELECT COUNT(DISTINCT employee_id) FROM survey_logging) AS response_rate\n",
    "FROM survey_logging\n",
    "WHERE action = 'answer'\n",
    "GROUP BY question_id\n",
    "ORDER BY response_rate DESC\n",
    "LIMIT 1;\n"
   ]
  }
 ],
 "metadata": {
  "kernelspec": {
   "display_name": "Python 3",
   "language": "python",
   "name": "python3"
  },
  "language_info": {
   "codemirror_mode": {
    "name": "ipython",
    "version": 3
   },
   "file_extension": ".py",
   "mimetype": "text/x-python",
   "name": "python",
   "nbconvert_exporter": "python",
   "pygments_lexer": "ipython3",
   "version": "3.12.1"
  }
 },
 "nbformat": 4,
 "nbformat_minor": 2
}
