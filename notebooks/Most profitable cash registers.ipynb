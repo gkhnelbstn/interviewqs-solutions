{
 "cells": [
  {
   "cell_type": "code",
   "execution_count": 1,
   "metadata": {},
   "outputs": [],
   "source": [
    "import pandas as pd \n",
    "import numpy as np\n",
    "import matplotlib.pyplot as plt"
   ]
  },
  {
   "cell_type": "markdown",
   "metadata": {},
   "source": [
    "Suppose you're working with a grocery store who recently installed 6 self checkout registers. As part of your work, you've collected the following data, which shows information on register usage and profit. Below are some clarifications on the data:\n",
    "\n",
    "- Each # in the dataset corresponds to a register # (1-6) and each row represents an individual usage of the register\n",
    "- The 'profit' field represents the profit the store made from the customer checking out at the associated register (you can assume the profit is random in the data).\n",
    "\n",
    "Using all of this information, write code to visualize the Probability Mass Function (PMF) of your customers' register usage. Your resultant chart should show each spot # (1-12) along with the probability of that spot being chosen based on your dataset. \n",
    "- Additionally, calculate the register with the highest total profit and the highest profit per use."
   ]
  },
  {
   "cell_type": "code",
   "execution_count": 16,
   "metadata": {},
   "outputs": [],
   "source": [
    "path = 'https://raw.githubusercontent.com/erood/interviewqs.com_code_snippets/master/Datasets/register_usage_info.csv'\n",
    "df = pd.read_csv(path)"
   ]
  },
  {
   "cell_type": "code",
   "execution_count": 22,
   "metadata": {},
   "outputs": [],
   "source": [
    "cash_register_array = df['cash_register'].values\n",
    "\n",
    "count = {}\n",
    "\n",
    "#For each value in data\n",
    "for i in cash_register_array:\n",
    "    #If the value is not in the dictionary, add it\n",
    "    count[i] = count.get(i, 0) + 1\n",
    "\n",
    "#Calculate the n of observations\n",
    "n = len(cash_register_array)\n",
    "\n",
    "probability_mass_function = {}\n",
    "\n",
    "for unique_value, count in count.items():\n",
    "    probability_mass_function[unique_value] = count / n"
   ]
  },
  {
   "cell_type": "code",
   "execution_count": 23,
   "metadata": {},
   "outputs": [
    {
     "data": {
      "image/png": "[encoded data removed]",
      "text/plain": [
       "<Figure size 640x480 with 1 Axes>"
      ]
     },
     "metadata": {},
     "output_type": "display_data"
    }
   ],
   "source": [
    "plt.bar(list(probability_mass_function.keys()), probability_mass_function.values(), color='g')\n",
    "plt.show()  "
   ]
  },
  {
   "cell_type": "code",
   "execution_count": 26,
   "metadata": {},
   "outputs": [
    {
     "data": {
      "text/html": [
       "<div>\n",
       "<style scoped>\n",
       "    .dataframe tbody tr th:only-of-type {\n",
       "        vertical-align: middle;\n",
       "    }\n",
       "\n",
       "    .dataframe tbody tr th {\n",
       "        vertical-align: top;\n",
       "    }\n",
       "\n",
       "    .dataframe thead th {\n",
       "        text-align: right;\n",
       "    }\n",
       "</style>\n",
       "<table border=\"1\" class=\"dataframe\">\n",
       "  <thead>\n",
       "    <tr style=\"text-align: right;\">\n",
       "      <th></th>\n",
       "      <th>cash_register</th>\n",
       "      <th>profit</th>\n",
       "      <th>num_uses</th>\n",
       "      <th>profit_per_use</th>\n",
       "    </tr>\n",
       "  </thead>\n",
       "  <tbody>\n",
       "    <tr>\n",
       "      <th>3</th>\n",
       "      <td>4</td>\n",
       "      <td>5425.791</td>\n",
       "      <td>169</td>\n",
       "      <td>32.105272</td>\n",
       "    </tr>\n",
       "    <tr>\n",
       "      <th>5</th>\n",
       "      <td>6</td>\n",
       "      <td>5358.969</td>\n",
       "      <td>177</td>\n",
       "      <td>30.276661</td>\n",
       "    </tr>\n",
       "    <tr>\n",
       "      <th>1</th>\n",
       "      <td>2</td>\n",
       "      <td>4981.347</td>\n",
       "      <td>174</td>\n",
       "      <td>28.628431</td>\n",
       "    </tr>\n",
       "    <tr>\n",
       "      <th>2</th>\n",
       "      <td>3</td>\n",
       "      <td>4971.246</td>\n",
       "      <td>171</td>\n",
       "      <td>29.071614</td>\n",
       "    </tr>\n",
       "    <tr>\n",
       "      <th>4</th>\n",
       "      <td>5</td>\n",
       "      <td>4501.161</td>\n",
       "      <td>152</td>\n",
       "      <td>29.612901</td>\n",
       "    </tr>\n",
       "    <tr>\n",
       "      <th>0</th>\n",
       "      <td>1</td>\n",
       "      <td>3996.888</td>\n",
       "      <td>144</td>\n",
       "      <td>27.756167</td>\n",
       "    </tr>\n",
       "  </tbody>\n",
       "</table>\n",
       "</div>"
      ],
      "text/plain": [
       "   cash_register    profit  num_uses  profit_per_use\n",
       "3              4  5425.791       169       32.105272\n",
       "5              6  5358.969       177       30.276661\n",
       "1              2  4981.347       174       28.628431\n",
       "2              3  4971.246       171       29.071614\n",
       "4              5  4501.161       152       29.612901\n",
       "0              1  3996.888       144       27.756167"
      ]
     },
     "execution_count": 26,
     "metadata": {},
     "output_type": "execute_result"
    }
   ],
   "source": [
    "# Pivot to show us the profit and number of utilizations \n",
    "# per register\n",
    "df = df.groupby('cash_register').agg(profit=('profit', 'sum'), num_uses=('profit', 'count')).reset_index()\n",
    "# Add in a column to calculate the profit per use\n",
    "df['profit_per_use'] = df['profit'] / df['num_uses']\n",
    "# Sort by the highest earning registers\n",
    "df = df.sort_values(by='profit', ascending=False)\n",
    "df.head(20)        "
   ]
  },
  {
   "cell_type": "code",
   "execution_count": null,
   "metadata": {},
   "outputs": [],
   "source": []
  }
 ],
 "metadata": {
  "kernelspec": {
   "display_name": "Python 3",
   "language": "python",
   "name": "python3"
  },
  "language_info": {
   "codemirror_mode": {
    "name": "ipython",
    "version": 3
   },
   "file_extension": ".py",
   "mimetype": "text/x-python",
   "name": "python",
   "nbconvert_exporter": "python",
   "pygments_lexer": "ipython3",
   "version": "3.12.1"
  }
 },
 "nbformat": 4,
 "nbformat_minor": 2
}
