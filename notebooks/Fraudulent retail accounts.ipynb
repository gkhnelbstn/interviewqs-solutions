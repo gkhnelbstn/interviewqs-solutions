{
 "cells": [
  {
   "cell_type": "code",
   "execution_count": 1,
   "metadata": {},
   "outputs": [],
   "source": [
    "import pandas as pd \n",
    "import numpy as np\n"
   ]
  },
  {
   "cell_type": "markdown",
   "metadata": {},
   "source": [
    "Below is a \"daily\" table for an active account at Shopify (an online ecommerce, retail platform). The table is called store_account and the columns are:\n",
    "\n",
    "| Column Name | Data Type | Description                                      |\n",
    "|-------------|----------|--------------------------------------------------|\n",
    "| store_id    | integer  | A unique Shopify store id                        |\n",
    "| date        | string   | Date                                             |\n",
    "| status      | string   | Possible values are: ['open', 'closed', 'fraud'] |\n",
    "| revenue     | double   | Amount of spend in USD                           |\n",
    "\n",
    "Here's some additional information about the table:\n",
    "\n",
    "- The granularity of the table is store_id and day\n",
    "- Assume 'closed' and 'fraud' are permanent labels\n",
    "- Active = daily revenue > 0\n",
    "- Accounts get labeled by Shopify as fraudulent and they no longer can sell product\n",
    "- Every day of the table has every store_id that has ever used Shopify\n",
    "- Given the above, write code using Python (Pandas library) to show what percent of active stores were fraudulent by day.\n",
    "\n",
    "Some clarifications:\n",
    "\n",
    "- We want one value for each day in the month.\n",
    "- A store can be fraudulent and active on same day. E.g. they could generate revenue until 10AM, then be flagged as fradulent from 10AM onward."
   ]
  },
  {
   "cell_type": "code",
   "execution_count": 2,
   "metadata": {},
   "outputs": [
    {
     "name": "stdout",
     "output_type": "stream",
     "text": [
      "   store_id        date  status  revenue\n",
      "0         1  2022-01-01    open    100.0\n",
      "1         2  2022-01-01  closed      0.0\n",
      "2         3  2022-01-02   fraud     50.0\n"
     ]
    }
   ],
   "source": [
    "import pandas as pd\n",
    "\n",
    "\n",
    "#Fake dataframe for this problem.\n",
    "# Define the data\n",
    "data = {'store_id': [1, 2, 3],\n",
    "    'date': ['2022-01-01', '2022-01-01', '2022-01-02'],\n",
    "    'status': ['open', 'closed', 'fraud'],\n",
    "    'revenue': [100.0, 0.0, 50.0]}\n",
    "\n",
    "# Create the dataframe\n",
    "df = pd.DataFrame(data)\n",
    "\n",
    "# Display the dataframe\n",
    "print(df)\n"
   ]
  },
  {
   "cell_type": "code",
   "execution_count": 4,
   "metadata": {},
   "outputs": [
    {
     "name": "stdout",
     "output_type": "stream",
     "text": [
      "date\n",
      "2022-01-01      NaN\n",
      "2022-01-02    100.0\n",
      "dtype: float64\n"
     ]
    }
   ],
   "source": [
    "# Filter the dataframe to include only active stores\n",
    "active_stores = df[df['revenue'] > 0]\n",
    "\n",
    "# Group the active stores by date and count the number of fraudulent stores per day\n",
    "fraudulent_stores_by_day = active_stores[active_stores['status'] == 'fraud'].groupby('date').size()\n",
    "\n",
    "# Calculate the total number of active stores per day\n",
    "total_active_stores_by_day = active_stores.groupby('date').size()\n",
    "\n",
    "# Calculate the percentage of fraudulent stores by day\n",
    "percentage_fraudulent_by_day = (fraudulent_stores_by_day / total_active_stores_by_day) * 100\n",
    "\n",
    "# Display the result\n",
    "print(percentage_fraudulent_by_day)\n"
   ]
  },
  {
   "cell_type": "markdown",
   "metadata": {},
   "source": [
    "Since this is a made up dataframe, result is also made up..."
   ]
  },
  {
   "cell_type": "markdown",
   "metadata": {},
   "source": []
  }
 ],
 "metadata": {
  "kernelspec": {
   "display_name": "Python 3",
   "language": "python",
   "name": "python3"
  },
  "language_info": {
   "codemirror_mode": {
    "name": "ipython",
    "version": 3
   },
   "file_extension": ".py",
   "mimetype": "text/x-python",
   "name": "python",
   "nbconvert_exporter": "python",
   "pygments_lexer": "ipython3",
   "version": "3.12.1"
  }
 },
 "nbformat": 4,
 "nbformat_minor": 2
}
