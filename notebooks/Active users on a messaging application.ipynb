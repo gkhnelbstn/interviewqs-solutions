{
 "cells": [
  {
   "cell_type": "code",
   "execution_count": 2,
   "metadata": {},
   "outputs": [],
   "source": [
    "import pandas as pd\n",
    "import numpy as np"
   ]
  },
  {
   "cell_type": "code",
   "execution_count": 7,
   "metadata": {},
   "outputs": [],
   "source": [
    "path = 'https://raw.githubusercontent.com/erood/interviewqs.com_code_snippets/master/Datasets/ddi_message_app_data.csv'\n",
    "df = pd.read_csv(path)"
   ]
  },
  {
   "cell_type": "markdown",
   "metadata": {},
   "source": [
    "# Question:\n",
    "Here is a table containing information from a P2P messaging application. The table contains send/receive message data for the application's users. The structure is as follows:\n",
    "\n",
    "Table name: user_messaging\n",
    "\n",
    "- date\n",
    "- sender_id (#id of the message sender)\n",
    "- receiver_id (#id of the message receiver)\n",
    "\n",
    "Using Python, calculate what fraction of senders sent messages to at least 9 unique people on March 1, 2018."
   ]
  },
  {
   "cell_type": "code",
   "execution_count": 8,
   "metadata": {},
   "outputs": [],
   "source": [
    "filtered_df = df[df['date'] == '2018-03-01']\n"
   ]
  },
  {
   "cell_type": "code",
   "execution_count": 9,
   "metadata": {},
   "outputs": [
    {
     "data": {
      "text/plain": [
       "0.9"
      ]
     },
     "execution_count": 9,
     "metadata": {},
     "output_type": "execute_result"
    }
   ],
   "source": [
    "# Count the number of unique receivers for each sender on March 1, 2018\n",
    "sender_counts = filtered_df.groupby('sender_id')['receiver_id'].nunique()\n",
    "\n",
    "# Filter senders who sent messages to at least 9 unique people\n",
    "senders_with_9_or_more_unique_receivers = sender_counts[sender_counts >= 9]\n",
    "\n",
    "# Calculate the fraction of senders\n",
    "fraction_of_senders = len(senders_with_9_or_more_unique_receivers) / len(filtered_df['sender_id'].unique())\n",
    "\n",
    "fraction_of_senders\n"
   ]
  }
 ],
 "metadata": {
  "kernelspec": {
   "display_name": "Python 3",
   "language": "python",
   "name": "python3"
  },
  "language_info": {
   "codemirror_mode": {
    "name": "ipython",
    "version": 3
   },
   "file_extension": ".py",
   "mimetype": "text/x-python",
   "name": "python",
   "nbconvert_exporter": "python",
   "pygments_lexer": "ipython3",
   "version": "3.12.1"
  }
 },
 "nbformat": 4,
 "nbformat_minor": 2
}
